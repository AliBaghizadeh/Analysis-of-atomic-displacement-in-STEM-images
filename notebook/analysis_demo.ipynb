{
 "cells": [
  {
   "cell_type": "markdown",
   "metadata": {},
   "source": [
    "# Atom Lattice Analysis - Demonstration Notebook\n",
    "\n",
    "## Section 1: Introduction\n",
    "\n",
    "This notebook demonstrates the workflow for analyzing atom lattice structures using the tools provided in this project. \n",
    "It covers:\n",
    "- Loading and preprocessing microscopy images.\n",
    "- Analyzing lattice and sublattice structures.\n",
    "- Visualizing displacement vectors.\n",
    "- Performing clustering analysis on displacement data."
   ]
  },
  {
   "cell_type": "markdown",
   "metadata": {},
   "source": [
    "## Section 2: Setup"
   ]
  },
  {
   "cell_type": "code",
   "execution_count": null,
   "metadata": {},
   "outputs": [],
   "source": [
    "# Import Required Libraries\n",
    "import os\n",
    "import numpy as np\n",
    "import matplotlib.pyplot as plt\n",
    "\n",
    "# Import custom modules\n",
    "from src.image_handler import ImageHandler\n",
    "from src.image_processor import ImageProcessor\n",
    "from src.atom_lattice_analyzer import AtomLatticeAnalyzer\n",
    "from src.displacement_analyzer import DisplacementAnalyzer\n",
    "from src.clustering import ClusterAnalyzer"
   ]
  },
  {
   "cell_type": "markdown",
   "metadata": {},
   "source": [
    "### Define Paths and Parameters"
   ]
  },
  {
   "cell_type": "code",
   "execution_count": null,
   "metadata": {},
   "outputs": [],
   "source": [
    "# Paths\n",
    "project_dir = os.getcwd()\n",
    "images_dir = os.path.join(project_dir, \"images\")\n",
    "results_dir = os.path.join(project_dir, \"results\")\n",
    "\n",
    "# Create results directory if it doesn't exist\n",
    "os.makedirs(results_dir, exist_ok=True)"
   ]
  },
  {
   "cell_type": "markdown",
   "metadata": {},
   "source": [
    "## Section 3: Data Loading"
   ]
  },
  {
   "cell_type": "code",
   "execution_count": null,
   "metadata": {},
   "outputs": [],
   "source": [
    "# Load Images\n",
    "handler = ImageHandler(images_dir)\n",
    "print(\"Available images:\", handler.images)\n",
    "\n",
    "# Load the first image\n",
    "image_name = handler.images[0]\n",
    "image = handler.load_image(image_name)\n",
    "image.plot()\n"
   ]
  },
  {
   "cell_type": "markdown",
   "metadata": {},
   "source": [
    "## Section 4: Image Processing"
   ]
  },
  {
   "cell_type": "code",
   "execution_count": null,
   "metadata": {},
   "outputs": [],
   "source": [
    "# Rotate and Crop the Image\n",
    "processor = ImageProcessor(image)\n",
    "\n",
    "# Rotate image\n",
    "rotation_angle = -3.5  # degrees\n",
    "processor.rotate(rotation_angle)\n",
    "processor.plot()\n",
    "\n",
    "# Crop image interactively\n",
    "cropped_image = processor.crop()\n",
    "cropped_image.plot()"
   ]
  },
  {
   "cell_type": "markdown",
   "metadata": {},
   "source": [
    "## Section 5: Lattice Analysis"
   ]
  },
  {
   "cell_type": "code",
   "execution_count": null,
   "metadata": {},
   "outputs": [],
   "source": [
    "# Detect and Refine Sublattices\n",
    "analyzer = AtomLatticeAnalyzer(cropped_image)\n",
    "\n",
    "# Detect Ba sublattice\n",
    "sublatticeBa = analyzer.find_sublattice(separation_range=(15, 19), separation=5, color='red')\n",
    "sublatticeBa.plot()\n",
    "\n",
    "# Refine Ba sublattice\n",
    "analyzer.refine_sublattice_positions(sublatticeBa, percent_to_nn=0.25)\n",
    "analyzer.plot_sublattice(sublatticeBa)\n",
    "\n",
    "# Construct zone axes for Ba\n",
    "zone_axes = analyzer.construct_zone_axes(sublatticeBa)\n",
    "print(f\"Zone axes for Ba: {zone_axes}\")\n",
    "\n",
    "# ### Detect Secondary Sublattice\n",
    "selected_zone_axis = zone_axes[2]  # Choose a specific zone axis\n",
    "print(f\"Selected zone axis for Ti: {selected_zone_axis}\")\n",
    "\n",
    "# Find Ti sublattice positions\n",
    "atom_positions_Ti, image_atoms_subtracted = analyzer.find_second_sublattice(sublatticeBa, selected_zone_axis)\n",
    "\n",
    "# Create Ti sublattice\n",
    "sublatticeTi = analyzer.find_sublattice(\n",
    "    separation_range=(15, 19), separation=5, color='blue'\n",
    ")\n",
    "analyzer.refine_sublattice_positions(sublatticeTi, percent_to_nn=0.24)\n",
    "analyzer.plot_sublattice(sublatticeTi)"
   ]
  },
  {
   "cell_type": "markdown",
   "metadata": {},
   "source": [
    "## Section 6: Displacement Analysis"
   ]
  },
  {
   "cell_type": "code",
   "execution_count": null,
   "metadata": {},
   "outputs": [],
   "source": [
    "# Calculate Displacement Vectors\n",
    "sampling = cropped_image.axes_manager[-1].scale\n",
    "unit = cropped_image.axes_manager[-1].units\n",
    "\n",
    "displacement_analyzer = DisplacementAnalyzer(\n",
    "    sublatticeBa, sublatticeTi, cropped_image, sampling, unit, results_dir, \"BaTiO3_analysis\"\n",
    ")\n",
    "\n",
    "# Compute displacement vectors\n",
    "z1, z2 = zone_axes[1], zone_axes[2]\n",
    "x, y, u, v = displacement_analyzer.calculate_displacement(z1, z2)\n",
    "\n",
    "# ### Visualize Displacement Vectors\n",
    "# Plot vector magnitude\n",
    "displacement_analyzer.plot_magnitude_overlay(x, y, u, v)\n",
    "\n",
    "# Plot angle distribution\n",
    "displacement_analyzer.plot_angle_overlay(x, y, u, v)"
   ]
  },
  {
   "cell_type": "markdown",
   "metadata": {},
   "source": [
    "## Section 7: Clustering"
   ]
  },
  {
   "cell_type": "code",
   "execution_count": null,
   "metadata": {},
   "outputs": [],
   "source": [
    "# Prepare Data for Clustering\n",
    "original_data = np.array([x, y, u, v]).T\n",
    "\n",
    "# ### Perform Clustering\n",
    "cluster_analyzer = ClusterAnalyzer(original_data, number_of_cores=4)\n",
    "\n",
    "# KMeans clustering\n",
    "n_clusters = 4\n",
    "cluster_labels = cluster_analyzer.kmeans(n_clusters=n_clusters)\n",
    "\n",
    "# Visualize clusters\n",
    "plt.figure(figsize=(8, 6))\n",
    "plt.scatter(original_data[:, 0], original_data[:, 1], c=cluster_labels, cmap='viridis', marker='o')\n",
    "plt.title(\"KMeans Clustering on Displacement Data\")\n",
    "plt.xlabel(\"X\")\n",
    "plt.ylabel(\"Y\")\n",
    "plt.show()"
   ]
  },
  {
   "cell_type": "markdown",
   "metadata": {},
   "source": [
    "## Section 8: Results"
   ]
  },
  {
   "cell_type": "code",
   "execution_count": null,
   "metadata": {},
   "outputs": [],
   "source": [
    "# Save Results\n",
    "print(f\"Results saved in: {results_dir}\")"
   ]
  }
 ],
 "metadata": {
  "kernelspec": {
   "display_name": "Python 3 (ipykernel)",
   "language": "python",
   "name": "python3"
  },
  "language_info": {
   "codemirror_mode": {
    "name": "ipython",
    "version": 3
   },
   "file_extension": ".py",
   "mimetype": "text/x-python",
   "name": "python",
   "nbconvert_exporter": "python",
   "pygments_lexer": "ipython3",
   "version": "3.11.10"
  }
 },
 "nbformat": 4,
 "nbformat_minor": 2
}
